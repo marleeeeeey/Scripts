{
 "cells": [
  {
   "cell_type": "code",
   "execution_count": 29,
   "metadata": {
    "collapsed": true
   },
   "outputs": [],
   "source": [
    "%matplotlib inline\n",
    "\n",
    "import operator\n",
    "\n",
    "import numpy as np\n",
    "import matplotlib.pyplot as plt\n",
    "\n",
    "from pandas import Series, DataFrame\n",
    "import pandas as pd\n",
    "\n",
    "\n",
    "# --------------------------------------------------------------------------\n",
    "import sklearn\n",
    "\n",
    "\n",
    "\n",
    "# sklearn.linear_model - реализация линейных методов\n",
    "# Perceptron - реализация метода Перцептрона\n",
    "#    fit     - обучение\n",
    "#    predict - построение прогнозов\n",
    "from sklearn.linear_model import Perceptron\n",
    "\n",
    "\n",
    "\n",
    "# В качестве метрики качества мы будем \n",
    "# использовать долю верных ответов (accuracy)\n",
    "# первым аргументом которой является вектор правильных ответов, \n",
    "# а вторым — вектор ответов алгоритма\n",
    "from sklearn.metrics import accuracy_score\n",
    "\n",
    "\n",
    "\n",
    "\n",
    "# Приведение признаков к одному масштабу \n",
    "# на вход необходимо подать матрицу признаков и \n",
    "# получить масштабированную матрицу, в которой \n",
    "# каждый столбец имеет нулевое среднее значение и \n",
    "# единичное стандартное отклонение\n",
    "from sklearn.preprocessing import scale\n",
    "\n",
    "\n",
    "\n",
    "# StandardScaler - класс используется для стандартизации признаков\n",
    "#    fit_transform \n",
    "#        находит параметры нормализации \n",
    "#        (средние и дисперсии каждого признака) \n",
    "#        по выборке, и сразу же делает нормализацию выборки \n",
    "#        с использованием этих параметров. \n",
    "#    transform \n",
    "#       делает нормализацию на основе уже найденных параметров.\n",
    "from sklearn.preprocessing import StandardScaler\n",
    "\n",
    "\n",
    "\n",
    "\n",
    "\n",
    "\n",
    "# ********************* РЕАЛИЗАЦИЯ РЕШАЮЩИХ ДЕРЕВЬЕВ *********************\n",
    "# sklearn.tree.DecisionTreeСlassifier - для классификации\n",
    "# sklearn.tree.DecisionTreeRegressor - для регрессии\n",
    "#   fit() - обучение модели\n",
    "#   predict() - построение прогнозов\n",
    "#   importances - переменная, которая содержит массив \"важностей\" признаков\n",
    "\n",
    "\n",
    "\n",
    "# Решение задачи КЛАССИФИКАЦИИ с помощью метода k ближайших соседей\n",
    "from sklearn.neighbors import KNeighborsClassifier\n",
    "\n",
    "\n",
    "\n",
    "# Решение задачи РЕГРЕССИИ с помощью метода k ближайших соседей\n",
    "#    metric - название метрики\n",
    "#    weights='distance' — данный параметр добавляет в алгоритм веса, \n",
    "#                         зависящие от расстояния до ближайших соседей.\n",
    "from sklearn.neighbors import KNeighborsRegressor\n",
    "\n",
    "\n",
    "# ************************************************************************\n",
    "\n",
    "\n",
    "\n",
    "\n",
    "\n",
    "\n",
    "# генератор разбиений \n",
    "# который задает набор разбиений на обучение и валидацию\n",
    "from sklearn.cross_validation import KFold\n",
    "\n",
    "\n",
    "\n",
    "# Вычисляет качество на всех разбиениях\n",
    "# Возвращает массив(результы по каждому разбиению), \n",
    "# который нужно усрединить\n",
    "#    estimator - передается классификатор, \n",
    "#    cv - генератор разбиений с предыдущего шага. \n",
    "#    scoring='mean_squared_error' - использовать в качестве\n",
    "#       метрики среднеквадратичную ошибку\n",
    "from sklearn.cross_validation import cross_val_score\n",
    "\n",
    "\n",
    "\n",
    "from sklearn import datasets"
   ]
  },
  {
   "cell_type": "code",
   "execution_count": 33,
   "metadata": {
    "collapsed": false
   },
   "outputs": [
    {
     "name": "stdout",
     "output_type": "stream",
     "text": [
      "X_train.shape=(300, 2), y_train.shape=(300,) | X_test.shape X=(200, 2), y_test.shape=(200,)\n"
     ]
    }
   ],
   "source": [
    "trainData = pd.read_table('perceptron-train.csv', sep=',', header=None)\n",
    "testData = pd.read_table('perceptron-test.csv', sep=',', header=None)\n",
    "\n",
    "X_train = trainData.ix[:,1:]\n",
    "y_train = trainData[0]\n",
    "\n",
    "X_test = testData.ix[:,1:]\n",
    "y_test = testData[0]\n",
    "\n",
    "print(\"X_train.shape=%s, y_train.shape=%s | X_test.shape X=%s, y_test.shape=%s\"\n",
    "      % (X_train.shape, y_train.shape, X_test.shape, y_test.shape))"
   ]
  },
  {
   "cell_type": "code",
   "execution_count": 34,
   "metadata": {
    "collapsed": false
   },
   "outputs": [],
   "source": [
    "def getAccuracyScope(inXTrain, inYTrain, inXTest, inYTest):    \n",
    "    clf = Perceptron(random_state=241)\n",
    "    clf.fit(inXTrain, inYTrain)\n",
    "    predictions = clf.predict(inXTest)\n",
    "    accuracyScope = accuracy_score(inYTest, predictions)\n",
    "    return accuracyScope"
   ]
  },
  {
   "cell_type": "code",
   "execution_count": 42,
   "metadata": {
    "collapsed": false
   },
   "outputs": [
    {
     "data": {
      "text/plain": [
       "0.18999999999999995"
      ]
     },
     "execution_count": 42,
     "metadata": {},
     "output_type": "execute_result"
    }
   ],
   "source": [
    "scaler = StandardScaler()\n",
    "X_train_scaled = scaler.fit_transform(X_train)\n",
    "X_test_scaled = scaler.transform(X_test)\n",
    "firstScope = getAccuracyScope(X_train, y_train, X_test, y_test)\n",
    "scaledScope = getAccuracyScope(X_train_scaled, y_train, X_test_scaled, y_test)\n",
    "answer = scaledScope - firstScope\n",
    "answer"
   ]
  }
 ],
 "metadata": {
  "anaconda-cloud": {},
  "kernelspec": {
   "display_name": "Python [default]",
   "language": "python",
   "name": "python3"
  },
  "language_info": {
   "codemirror_mode": {
    "name": "ipython",
    "version": 3
   },
   "file_extension": ".py",
   "mimetype": "text/x-python",
   "name": "python",
   "nbconvert_exporter": "python",
   "pygments_lexer": "ipython3",
   "version": "3.5.2"
  }
 },
 "nbformat": 4,
 "nbformat_minor": 1
}
