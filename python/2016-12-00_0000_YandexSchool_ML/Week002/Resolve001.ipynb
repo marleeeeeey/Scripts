{
 "cells": [
  {
   "cell_type": "code",
   "execution_count": 13,
   "metadata": {
    "collapsed": true
   },
   "outputs": [],
   "source": [
    "%matplotlib inline\n",
    "\n",
    "import operator\n",
    "\n",
    "import numpy as np\n",
    "import matplotlib.pyplot as plt\n",
    "\n",
    "from pandas import Series, DataFrame\n",
    "import pandas as pd\n",
    "\n",
    "import sklearn\n",
    "from sklearn.cross_validation import KFold as KF\n",
    "from sklearn.neighbors import KNeighborsClassifier as KNClassifier\n",
    "from sklearn.cross_validation import cross_val_score as CVS"
   ]
  },
  {
   "cell_type": "code",
   "execution_count": 14,
   "metadata": {
    "collapsed": false
   },
   "outputs": [
    {
     "data": {
      "text/html": [
       "<div>\n",
       "<table border=\"1\" class=\"dataframe\">\n",
       "  <thead>\n",
       "    <tr style=\"text-align: right;\">\n",
       "      <th></th>\n",
       "      <th>0</th>\n",
       "      <th>1</th>\n",
       "      <th>2</th>\n",
       "      <th>3</th>\n",
       "      <th>4</th>\n",
       "      <th>5</th>\n",
       "      <th>6</th>\n",
       "      <th>7</th>\n",
       "      <th>8</th>\n",
       "      <th>9</th>\n",
       "      <th>10</th>\n",
       "      <th>11</th>\n",
       "      <th>12</th>\n",
       "      <th>13</th>\n",
       "    </tr>\n",
       "  </thead>\n",
       "  <tbody>\n",
       "    <tr>\n",
       "      <th>0</th>\n",
       "      <td>1</td>\n",
       "      <td>14.23</td>\n",
       "      <td>1.71</td>\n",
       "      <td>2.43</td>\n",
       "      <td>15.6</td>\n",
       "      <td>127</td>\n",
       "      <td>2.80</td>\n",
       "      <td>3.06</td>\n",
       "      <td>0.28</td>\n",
       "      <td>2.29</td>\n",
       "      <td>5.64</td>\n",
       "      <td>1.04</td>\n",
       "      <td>3.92</td>\n",
       "      <td>1065</td>\n",
       "    </tr>\n",
       "    <tr>\n",
       "      <th>1</th>\n",
       "      <td>1</td>\n",
       "      <td>13.20</td>\n",
       "      <td>1.78</td>\n",
       "      <td>2.14</td>\n",
       "      <td>11.2</td>\n",
       "      <td>100</td>\n",
       "      <td>2.65</td>\n",
       "      <td>2.76</td>\n",
       "      <td>0.26</td>\n",
       "      <td>1.28</td>\n",
       "      <td>4.38</td>\n",
       "      <td>1.05</td>\n",
       "      <td>3.40</td>\n",
       "      <td>1050</td>\n",
       "    </tr>\n",
       "    <tr>\n",
       "      <th>2</th>\n",
       "      <td>1</td>\n",
       "      <td>13.16</td>\n",
       "      <td>2.36</td>\n",
       "      <td>2.67</td>\n",
       "      <td>18.6</td>\n",
       "      <td>101</td>\n",
       "      <td>2.80</td>\n",
       "      <td>3.24</td>\n",
       "      <td>0.30</td>\n",
       "      <td>2.81</td>\n",
       "      <td>5.68</td>\n",
       "      <td>1.03</td>\n",
       "      <td>3.17</td>\n",
       "      <td>1185</td>\n",
       "    </tr>\n",
       "    <tr>\n",
       "      <th>3</th>\n",
       "      <td>1</td>\n",
       "      <td>14.37</td>\n",
       "      <td>1.95</td>\n",
       "      <td>2.50</td>\n",
       "      <td>16.8</td>\n",
       "      <td>113</td>\n",
       "      <td>3.85</td>\n",
       "      <td>3.49</td>\n",
       "      <td>0.24</td>\n",
       "      <td>2.18</td>\n",
       "      <td>7.80</td>\n",
       "      <td>0.86</td>\n",
       "      <td>3.45</td>\n",
       "      <td>1480</td>\n",
       "    </tr>\n",
       "    <tr>\n",
       "      <th>4</th>\n",
       "      <td>1</td>\n",
       "      <td>13.24</td>\n",
       "      <td>2.59</td>\n",
       "      <td>2.87</td>\n",
       "      <td>21.0</td>\n",
       "      <td>118</td>\n",
       "      <td>2.80</td>\n",
       "      <td>2.69</td>\n",
       "      <td>0.39</td>\n",
       "      <td>1.82</td>\n",
       "      <td>4.32</td>\n",
       "      <td>1.04</td>\n",
       "      <td>2.93</td>\n",
       "      <td>735</td>\n",
       "    </tr>\n",
       "  </tbody>\n",
       "</table>\n",
       "</div>"
      ],
      "text/plain": [
       "   0      1     2     3     4    5     6     7     8     9     10    11    12  \\\n",
       "0   1  14.23  1.71  2.43  15.6  127  2.80  3.06  0.28  2.29  5.64  1.04  3.92   \n",
       "1   1  13.20  1.78  2.14  11.2  100  2.65  2.76  0.26  1.28  4.38  1.05  3.40   \n",
       "2   1  13.16  2.36  2.67  18.6  101  2.80  3.24  0.30  2.81  5.68  1.03  3.17   \n",
       "3   1  14.37  1.95  2.50  16.8  113  3.85  3.49  0.24  2.18  7.80  0.86  3.45   \n",
       "4   1  13.24  2.59  2.87  21.0  118  2.80  2.69  0.39  1.82  4.32  1.04  2.93   \n",
       "\n",
       "     13  \n",
       "0  1065  \n",
       "1  1050  \n",
       "2  1185  \n",
       "3  1480  \n",
       "4   735  "
      ]
     },
     "execution_count": 14,
     "metadata": {},
     "output_type": "execute_result"
    }
   ],
   "source": [
    "data = pd.read_table('wine.data', sep=',', header=None)\n",
    "data.head()"
   ]
  },
  {
   "cell_type": "code",
   "execution_count": 15,
   "metadata": {
    "collapsed": false
   },
   "outputs": [
    {
     "data": {
      "text/plain": [
       "(178, 14)"
      ]
     },
     "execution_count": 15,
     "metadata": {},
     "output_type": "execute_result"
    }
   ],
   "source": [
    "data.shape"
   ]
  },
  {
   "cell_type": "code",
   "execution_count": 16,
   "metadata": {
    "collapsed": false
   },
   "outputs": [
    {
     "data": {
      "text/plain": [
       "(178,)"
      ]
     },
     "execution_count": 16,
     "metadata": {},
     "output_type": "execute_result"
    }
   ],
   "source": [
    "Y = data[0]\n",
    "Y.shape"
   ]
  },
  {
   "cell_type": "code",
   "execution_count": 17,
   "metadata": {
    "collapsed": false
   },
   "outputs": [
    {
     "data": {
      "text/plain": [
       "(178, 13)"
      ]
     },
     "execution_count": 17,
     "metadata": {},
     "output_type": "execute_result"
    }
   ],
   "source": [
    "X = data.ix[:,1:]\n",
    "X.shape"
   ]
  },
  {
   "cell_type": "code",
   "execution_count": 18,
   "metadata": {
    "collapsed": false
   },
   "outputs": [
    {
     "data": {
      "text/plain": [
       "sklearn.cross_validation.KFold(n=178, n_folds=5, shuffle=True, random_state=42)"
      ]
     },
     "execution_count": 18,
     "metadata": {},
     "output_type": "execute_result"
    }
   ],
   "source": [
    "kf = KF(X.shape[0], n_folds=5, shuffle=True, random_state=42)\n",
    "kf"
   ]
  },
  {
   "cell_type": "code",
   "execution_count": 24,
   "metadata": {
    "collapsed": false
   },
   "outputs": [
    {
     "data": {
      "text/plain": [
       "numpy.ndarray"
      ]
     },
     "execution_count": 24,
     "metadata": {},
     "output_type": "execute_result"
    }
   ],
   "source": [
    "type(X)"
   ]
  },
  {
   "cell_type": "code",
   "execution_count": 25,
   "metadata": {
    "collapsed": false
   },
   "outputs": [
    {
     "data": {
      "text/plain": [
       "pandas.core.series.Series"
      ]
     },
     "execution_count": 25,
     "metadata": {},
     "output_type": "execute_result"
    }
   ],
   "source": [
    "type(Y)"
   ]
  },
  {
   "cell_type": "code",
   "execution_count": 19,
   "metadata": {
    "collapsed": false,
    "scrolled": true
   },
   "outputs": [],
   "source": [
    "def getSortedDict():\n",
    "    k = 1\n",
    "    dictKM = {}\n",
    "    while k <= 50:\n",
    "        knc = KNClassifier(n_neighbors=k)\n",
    "        #knc.fit(X, Y)\n",
    "        cvsArray = CVS(estimator=knc, X=X, y=Y, cv=kf)\n",
    "        m = cvsArray.mean()\n",
    "        dictKM[k] = m\n",
    "        k += 1\n",
    "        \n",
    "    return sorted(dictKM.items(), key=operator.itemgetter(1))"
   ]
  },
  {
   "cell_type": "code",
   "execution_count": 20,
   "metadata": {
    "collapsed": false
   },
   "outputs": [],
   "source": [
    "simpleSorted = getSortedDict()"
   ]
  },
  {
   "cell_type": "code",
   "execution_count": 21,
   "metadata": {
    "collapsed": false
   },
   "outputs": [],
   "source": [
    "# Приведение признаков к одному масштабу\n",
    "# Получение матрицы, в которой каждый столбец имеет нулевое \n",
    "# среднее значение и единичное стандартное отклонение.\n",
    "X = sklearn.preprocessing.scale(X)\n",
    "normalSorted = getSortedDict()"
   ]
  },
  {
   "cell_type": "code",
   "execution_count": 22,
   "metadata": {
    "collapsed": false
   },
   "outputs": [
    {
     "data": {
      "text/plain": [
       "[(4, 0.65777777777777779),\n",
       " (2, 0.66253968253968254),\n",
       " (6, 0.67428571428571438),\n",
       " (5, 0.67460317460317465),\n",
       " (19, 0.67936507936507928),\n",
       " (14, 0.67936507936507939),\n",
       " (18, 0.67952380952380953),\n",
       " (16, 0.67952380952380964),\n",
       " (8, 0.67999999999999994),\n",
       " (7, 0.68000000000000005),\n",
       " (10, 0.68015873015873018),\n",
       " (13, 0.69095238095238087),\n",
       " (20, 0.69095238095238087),\n",
       " (31, 0.69095238095238098),\n",
       " (27, 0.69634920634920638),\n",
       " (22, 0.69650793650793641),\n",
       " (26, 0.69650793650793652),\n",
       " (12, 0.69666666666666666),\n",
       " (47, 0.69666666666666666),\n",
       " (49, 0.69666666666666666),\n",
       " (17, 0.70158730158730154),\n",
       " (21, 0.70190476190476192),\n",
       " (25, 0.70190476190476192),\n",
       " (15, 0.70190476190476203),\n",
       " (23, 0.70206349206349206),\n",
       " (9, 0.70238095238095233),\n",
       " (11, 0.70253968253968258),\n",
       " (24, 0.70761904761904759),\n",
       " (40, 0.70777777777777773),\n",
       " (42, 0.70777777777777773),\n",
       " (43, 0.70777777777777773),\n",
       " (44, 0.70777777777777773),\n",
       " (45, 0.70777777777777773),\n",
       " (46, 0.70777777777777773),\n",
       " (50, 0.70777777777777773),\n",
       " (28, 0.70793650793650786),\n",
       " (30, 0.70793650793650786),\n",
       " (39, 0.70793650793650786),\n",
       " (3, 0.70825396825396825),\n",
       " (29, 0.7134920634920634),\n",
       " (32, 0.7134920634920634),\n",
       " (33, 0.7134920634920634),\n",
       " (37, 0.7134920634920634),\n",
       " (38, 0.7134920634920634),\n",
       " (41, 0.7134920634920634),\n",
       " (36, 0.71349206349206362),\n",
       " (48, 0.71904761904761916),\n",
       " (34, 0.72460317460317469),\n",
       " (35, 0.72460317460317469),\n",
       " (1, 0.7304761904761905)]"
      ]
     },
     "execution_count": 22,
     "metadata": {},
     "output_type": "execute_result"
    }
   ],
   "source": [
    "simpleSorted"
   ]
  },
  {
   "cell_type": "code",
   "execution_count": 23,
   "metadata": {
    "collapsed": false
   },
   "outputs": [
    {
     "data": {
      "text/plain": [
       "[(2, 0.93285714285714294),\n",
       " (4, 0.93825396825396834),\n",
       " (1, 0.94396825396825401),\n",
       " (5, 0.94936507936507941),\n",
       " (13, 0.94952380952380933),\n",
       " (6, 0.94952380952380955),\n",
       " (7, 0.94952380952380955),\n",
       " (46, 0.94952380952380955),\n",
       " (48, 0.94952380952380955),\n",
       " (3, 0.95507936507936508),\n",
       " (47, 0.95507936507936508),\n",
       " (49, 0.95507936507936508),\n",
       " (8, 0.95523809523809522),\n",
       " (12, 0.95523809523809522),\n",
       " (24, 0.95523809523809522),\n",
       " (25, 0.95523809523809522),\n",
       " (27, 0.95523809523809522),\n",
       " (31, 0.95523809523809522),\n",
       " (37, 0.95523809523809522),\n",
       " (19, 0.95539682539682536),\n",
       " (44, 0.96063492063492062),\n",
       " (50, 0.96063492063492062),\n",
       " (9, 0.96079365079365076),\n",
       " (10, 0.96079365079365076),\n",
       " (26, 0.96079365079365076),\n",
       " (30, 0.96079365079365076),\n",
       " (32, 0.96079365079365076),\n",
       " (35, 0.96079365079365076),\n",
       " (36, 0.96079365079365076),\n",
       " (38, 0.96079365079365076),\n",
       " (39, 0.96079365079365076),\n",
       " (40, 0.96079365079365076),\n",
       " (42, 0.96079365079365076),\n",
       " (11, 0.96095238095238089),\n",
       " (23, 0.96095238095238089),\n",
       " (21, 0.96095238095238111),\n",
       " (14, 0.96634920634920629),\n",
       " (28, 0.96634920634920629),\n",
       " (33, 0.96634920634920629),\n",
       " (34, 0.96634920634920629),\n",
       " (41, 0.96634920634920629),\n",
       " (43, 0.96634920634920629),\n",
       " (45, 0.96634920634920629),\n",
       " (17, 0.96650793650793643),\n",
       " (18, 0.96650793650793643),\n",
       " (20, 0.96650793650793643),\n",
       " (22, 0.96650793650793643),\n",
       " (15, 0.97206349206349218),\n",
       " (16, 0.97206349206349218),\n",
       " (29, 0.9776190476190475)]"
      ]
     },
     "execution_count": 23,
     "metadata": {},
     "output_type": "execute_result"
    }
   ],
   "source": [
    "normalSorted"
   ]
  },
  {
   "cell_type": "code",
   "execution_count": null,
   "metadata": {
    "collapsed": true
   },
   "outputs": [],
   "source": []
  }
 ],
 "metadata": {
  "anaconda-cloud": {},
  "kernelspec": {
   "display_name": "Python [default]",
   "language": "python",
   "name": "python3"
  },
  "language_info": {
   "codemirror_mode": {
    "name": "ipython",
    "version": 3
   },
   "file_extension": ".py",
   "mimetype": "text/x-python",
   "name": "python",
   "nbconvert_exporter": "python",
   "pygments_lexer": "ipython3",
   "version": "3.5.2"
  }
 },
 "nbformat": 4,
 "nbformat_minor": 1
}
