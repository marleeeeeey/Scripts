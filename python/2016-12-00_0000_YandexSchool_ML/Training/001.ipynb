{
 "cells": [
  {
   "cell_type": "code",
   "execution_count": 1,
   "metadata": {
    "collapsed": true
   },
   "outputs": [],
   "source": [
    "%matplotlib inline\n",
    "\n",
    "import operator\n",
    "\n",
    "import numpy as np\n",
    "import matplotlib.pyplot as plt\n",
    "\n",
    "from pandas import Series, DataFrame\n",
    "import pandas as pd\n",
    "\n",
    "\n",
    "# --------------------------------------------------------------------------\n",
    "import sklearn\n",
    "\n",
    "\n",
    "\n",
    "# sklearn.linear_model - реализация линейных методов\n",
    "# Perceptron - реализация метода Перцептрона\n",
    "#    fit     - обучение\n",
    "#    predict - построение прогнозов\n",
    "from sklearn.linear_model import Perceptron\n",
    "\n",
    "\n",
    "\n",
    "# В качестве метрики качества мы будем \n",
    "# использовать долю верных ответов (accuracy)\n",
    "# первым аргументом которой является вектор правильных ответов, \n",
    "# а вторым — вектор ответов алгоритма\n",
    "from sklearn.metrics import accuracy_score\n",
    "\n",
    "\n",
    "\n",
    "\n",
    "# Приведение признаков к одному масштабу \n",
    "# на вход необходимо подать матрицу признаков и \n",
    "# получить масштабированную матрицу, в которой \n",
    "# каждый столбец имеет нулевое среднее значение и \n",
    "# единичное стандартное отклонение\n",
    "from sklearn.preprocessing import scale\n",
    "\n",
    "\n",
    "\n",
    "# StandardScaler - класс используется для стандартизации признаков\n",
    "#    fit_transform \n",
    "#        находит параметры нормализации \n",
    "#        (средние и дисперсии каждого признака) \n",
    "#        по выборке, и сразу же делает нормализацию выборки \n",
    "#        с использованием этих параметров. \n",
    "#    transform \n",
    "#       делает нормализацию на основе уже найденных параметров.\n",
    "from sklearn.preprocessing import StandardScaler\n",
    "\n",
    "\n",
    "\n",
    "\n",
    "\n",
    "\n",
    "# ********************* РЕАЛИЗАЦИЯ РЕШАЮЩИХ ДЕРЕВЬЕВ *********************\n",
    "# sklearn.tree.DecisionTreeСlassifier - для классификации\n",
    "# sklearn.tree.DecisionTreeRegressor - для регрессии\n",
    "#   fit() - обучение модели\n",
    "#   predict() - построение прогнозов\n",
    "#   importances - переменная, которая содержит массив \"важностей\" признаков\n",
    "\n",
    "\n",
    "\n",
    "# Решение задачи КЛАССИФИКАЦИИ с помощью метода k ближайших соседей\n",
    "from sklearn.neighbors import KNeighborsClassifier\n",
    "\n",
    "\n",
    "\n",
    "# Решение задачи РЕГРЕССИИ с помощью метода k ближайших соседей\n",
    "#    metric - название метрики\n",
    "#    weights='distance' — данный параметр добавляет в алгоритм веса, \n",
    "#                         зависящие от расстояния до ближайших соседей.\n",
    "from sklearn.neighbors import KNeighborsRegressor\n",
    "\n",
    "\n",
    "# ************************************************************************\n",
    "\n",
    "\n",
    "\n",
    "\n",
    "\n",
    "\n",
    "# генератор разбиений \n",
    "# который задает набор разбиений на обучение и валидацию\n",
    "from sklearn.cross_validation import KFold\n",
    "\n",
    "\n",
    "\n",
    "# Вычисляет качество на всех разбиениях\n",
    "# Возвращает массив(результы по каждому разбиению), \n",
    "# который нужно усрединить\n",
    "#    estimator - передается классификатор, \n",
    "#    cv - генератор разбиений с предыдущего шага. \n",
    "#    scoring='mean_squared_error' - использовать в качестве\n",
    "#       метрики среднеквадратичную ошибку\n",
    "from sklearn.cross_validation import cross_val_score\n",
    "\n",
    "\n",
    "\n",
    "from sklearn import datasets"
   ]
  },
  {
   "cell_type": "code",
   "execution_count": 13,
   "metadata": {
    "collapsed": false
   },
   "outputs": [
    {
     "data": {
      "text/plain": [
       "array([[ 0,  1,  2,  3],\n",
       "       [ 4,  5,  6,  7],\n",
       "       [ 8,  9, 10, 11]])"
      ]
     },
     "execution_count": 13,
     "metadata": {},
     "output_type": "execute_result"
    }
   ],
   "source": [
    "arr = np.arange(12).reshape(3, 4)\n",
    "arr"
   ]
  },
  {
   "cell_type": "code",
   "execution_count": 14,
   "metadata": {
    "collapsed": false
   },
   "outputs": [
    {
     "data": {
      "text/plain": [
       "array([[0, 0, 0, 0],\n",
       "       [4, 4, 4, 4],\n",
       "       [8, 8, 8, 8]])"
      ]
     },
     "execution_count": 14,
     "metadata": {},
     "output_type": "execute_result"
    }
   ],
   "source": [
    "arr - arr[0]"
   ]
  },
  {
   "cell_type": "code",
   "execution_count": 23,
   "metadata": {
    "collapsed": false
   },
   "outputs": [],
   "source": [
    "f = lambda x: x*x"
   ]
  },
  {
   "cell_type": "code",
   "execution_count": 22,
   "metadata": {
    "collapsed": false
   },
   "outputs": [
    {
     "data": {
      "text/plain": [
       "4"
      ]
     },
     "execution_count": 22,
     "metadata": {},
     "output_type": "execute_result"
    }
   ],
   "source": [
    "f(2)"
   ]
  },
  {
   "cell_type": "code",
   "execution_count": 21,
   "metadata": {
    "collapsed": false
   },
   "outputs": [
    {
     "data": {
      "text/plain": [
       "4"
      ]
     },
     "execution_count": 21,
     "metadata": {},
     "output_type": "execute_result"
    }
   ],
   "source": [
    "(lambda x: x*x)(2)"
   ]
  },
  {
   "cell_type": "code",
   "execution_count": null,
   "metadata": {
    "collapsed": true
   },
   "outputs": [],
   "source": []
  }
 ],
 "metadata": {
  "anaconda-cloud": {},
  "kernelspec": {
   "display_name": "Python [default]",
   "language": "python",
   "name": "python3"
  },
  "language_info": {
   "codemirror_mode": {
    "name": "ipython",
    "version": 3
   },
   "file_extension": ".py",
   "mimetype": "text/x-python",
   "name": "python",
   "nbconvert_exporter": "python",
   "pygments_lexer": "ipython3",
   "version": "3.5.2"
  }
 },
 "nbformat": 4,
 "nbformat_minor": 1
}
