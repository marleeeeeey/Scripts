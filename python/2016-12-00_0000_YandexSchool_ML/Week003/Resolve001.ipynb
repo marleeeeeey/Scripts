{
 "cells": [
  {
   "cell_type": "code",
   "execution_count": 1,
   "metadata": {
    "collapsed": true
   },
   "outputs": [],
   "source": [
    "import sys\n",
    "sys.path.append('g:\\\\Programming\\\\YandexShcool\\\\shared\\\\')\n",
    "import imp\n",
    "import my_imports\n",
    "imp.reload(my_imports)   # перезагрузка модуля в любом случае\n",
    "from my_imports import *"
   ]
  },
  {
   "cell_type": "code",
   "execution_count": 2,
   "metadata": {
    "collapsed": false
   },
   "outputs": [
    {
     "name": "stdout",
     "output_type": "stream",
     "text": [
      "X_train.shape=(10, 2), y_train.shape=(10,)\n"
     ]
    }
   ],
   "source": [
    "trainData = pd.read_table('svm-data.csv', sep=',', header=None)\n",
    "X_train = trainData.ix[:,1:]\n",
    "y_train = trainData[0]\n",
    "\n",
    "print(\"X_train.shape=%s, y_train.shape=%s\"\n",
    "      % (X_train.shape, y_train.shape))"
   ]
  },
  {
   "cell_type": "code",
   "execution_count": 3,
   "metadata": {
    "collapsed": false
   },
   "outputs": [
    {
     "data": {
      "text/plain": [
       "array([3, 4, 9])"
      ]
     },
     "execution_count": 3,
     "metadata": {},
     "output_type": "execute_result"
    }
   ],
   "source": [
    "svc = SVC(random_state=241, C=100000, kernel='linear')\n",
    "svc.fit(X_train, y_train)\n",
    "svc.support_"
   ]
  },
  {
   "cell_type": "code",
   "execution_count": null,
   "metadata": {
    "collapsed": true
   },
   "outputs": [],
   "source": []
  }
 ],
 "metadata": {
  "anaconda-cloud": {},
  "kernelspec": {
   "display_name": "Python [default]",
   "language": "python",
   "name": "python3"
  },
  "language_info": {
   "codemirror_mode": {
    "name": "ipython",
    "version": 3
   },
   "file_extension": ".py",
   "mimetype": "text/x-python",
   "name": "python",
   "nbconvert_exporter": "python",
   "pygments_lexer": "ipython3",
   "version": "3.5.2"
  }
 },
 "nbformat": 4,
 "nbformat_minor": 1
}
