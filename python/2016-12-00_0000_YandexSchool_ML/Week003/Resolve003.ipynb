{
 "cells": [
  {
   "cell_type": "code",
   "execution_count": 32,
   "metadata": {
    "collapsed": false
   },
   "outputs": [],
   "source": [
    "import sys\n",
    "sys.path.append('g:\\\\Programming\\\\YandexShcool\\\\shared\\\\')\n",
    "import imp\n",
    "import my_imports\n",
    "imp.reload(my_imports)   # перезагрузка модуля в любом случае\n",
    "from my_imports import *\n",
    "from my_module import *"
   ]
  },
  {
   "cell_type": "code",
   "execution_count": 33,
   "metadata": {
    "collapsed": true
   },
   "outputs": [],
   "source": [
    "trainData = pd.read_table('data-logistic.csv', sep=',', header=None)\n",
    "X = trainData.ix[:,1:]\n",
    "y = trainData[0]\n",
    "X = np.array(X)        \n",
    "y = np.array(y)\n"
   ]
  },
  {
   "cell_type": "code",
   "execution_count": 34,
   "metadata": {
    "collapsed": true
   },
   "outputs": [],
   "source": [
    "# подсчитаем нелинейную сигмоиду\n",
    "def sigmoid(x):\n",
    "    output = 1/(1+np.exp(-x))\n",
    "    return output\n",
    "\n",
    "# преобразуем результат сигмоиды к производной\n",
    "def sigmoid_output_to_derivative(output):\n",
    "    return output*(1-output)\n",
    "\n",
    "def meanSigmoid(synapse, X, y, sinId):\n",
    "    sm = sigmoid(np.dot(X, synapse))\n",
    "    length = y.size - 1\n",
    "    s = 0;\n",
    "    for i in range(0, length):\n",
    "        s += y[i] * X[i][sinId] * sm[i]               \n",
    "    return (s / length, sm)\n",
    "\n",
    "def sinapse_update(synapse, X, y, k=0.1, C=10):\n",
    "    sm = None\n",
    "    for i in [0, 1]:\n",
    "        s1 = synapse[i]\n",
    "        (meanS, sm) = meanSigmoid(synapse, X, y, i)\n",
    "        s2 = k*meanS\n",
    "        s3 = -k*C*synapse[i]\n",
    "        synapse[i] = s1 + s2 + s3\n",
    "    \n",
    "    return sm"
   ]
  },
  {
   "cell_type": "code",
   "execution_count": 35,
   "metadata": {
    "collapsed": false,
    "scrolled": true
   },
   "outputs": [],
   "source": [
    "sm_01 = None\n",
    "sm_10 = None\n",
    "synapse_00 = [0, 0]    # инициализация весов / начальное приближение\n",
    "synapse_10 = [0, 0]\n",
    "\n",
    "for iter in range(10000):\n",
    "    sm_00 = sinapse_update(synapse=synapse_00, X=X, y=y, k=0.1, C=0)\n",
    "    sm_10 = sinapse_update(synapse=synapse_10, X=X, y=y, k=0.1, C=10)"
   ]
  },
  {
   "cell_type": "code",
   "execution_count": 36,
   "metadata": {
    "collapsed": false
   },
   "outputs": [
    {
     "name": "stdout",
     "output_type": "stream",
     "text": [
      "0.720952380952 0.935523809524\n"
     ]
    }
   ],
   "source": [
    "metrix_01 = roc_auc_score(y_true=y, y_score=sm_00)\n",
    "metrix_10 = roc_auc_score(y_true=y, y_score=sm_10)\n",
    "print('%s %s' % (metrix_01, metrix_10))"
   ]
  },
  {
   "cell_type": "code",
   "execution_count": null,
   "metadata": {
    "collapsed": true
   },
   "outputs": [],
   "source": [
    "for iter in range(10000):\n",
    "\n",
    "    # прямое распространение\n",
    "    layer_0 = X  \n",
    "    layer_1 = sigmoid(np.dot(layer_0,synapse_0))  \n",
    "    \n",
    "    # как сильно ошиблись?\n",
    "    layer_1_error = layer_1 - y\n",
    "\n",
    "    # умножим ошибку на уклон сигмоиды \n",
    "    k = 0.1\n",
    "    #k = sigmoid_output_to_derivative(layer_1)\n",
    "    layer_1_delta = layer_1_error * k\n",
    "    synapse_0_derivative = np.dot(layer_0.T, layer_1_delta)\n",
    "\n",
    "    # обновим веса\n",
    "    synapse_0 -= synapse_0_derivative\n",
    "\n",
    "print (\"Вывод после тренировки:\")\n",
    "print (layer_1)\n",
    "print (synapse_0)"
   ]
  }
 ],
 "metadata": {
  "anaconda-cloud": {},
  "kernelspec": {
   "display_name": "Python [default]",
   "language": "python",
   "name": "python3"
  },
  "language_info": {
   "codemirror_mode": {
    "name": "ipython",
    "version": 3
   },
   "file_extension": ".py",
   "mimetype": "text/x-python",
   "name": "python",
   "nbconvert_exporter": "python",
   "pygments_lexer": "ipython3",
   "version": "3.5.2"
  }
 },
 "nbformat": 4,
 "nbformat_minor": 1
}
