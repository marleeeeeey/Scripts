{
 "cells": [
  {
   "cell_type": "code",
   "execution_count": 9,
   "metadata": {
    "collapsed": true
   },
   "outputs": [],
   "source": [
    "import sys\n",
    "sys.path.append('g:\\\\Programming\\\\YandexShcool\\\\shared\\\\')\n",
    "import imp\n",
    "import my_imports\n",
    "imp.reload(my_imports)   # перезагрузка модуля в любом случае\n",
    "from my_imports import *"
   ]
  },
  {
   "cell_type": "code",
   "execution_count": 2,
   "metadata": {
    "collapsed": false
   },
   "outputs": [],
   "source": [
    "newsgroups = datasets.fetch_20newsgroups(\n",
    "                    subset='all', \n",
    "                    categories=['alt.atheism', 'sci.space']\n",
    "             )"
   ]
  },
  {
   "cell_type": "code",
   "execution_count": 3,
   "metadata": {
    "collapsed": true
   },
   "outputs": [],
   "source": [
    "X = newsgroups.data\n",
    "y = newsgroups.target"
   ]
  },
  {
   "cell_type": "code",
   "execution_count": 4,
   "metadata": {
    "collapsed": true
   },
   "outputs": [],
   "source": [
    "vectorizer = TfidfVectorizer()\n",
    "X_scaled = vectorizer.fit_transform(X)"
   ]
  },
  {
   "cell_type": "code",
   "execution_count": 11,
   "metadata": {
    "collapsed": false,
    "scrolled": true
   },
   "outputs": [
    {
     "data": {
      "text/plain": [
       "GridSearchCV(cv=sklearn.cross_validation.KFold(n=1786, n_folds=5, shuffle=True, random_state=241),\n",
       "       error_score='raise',\n",
       "       estimator=SVC(C=1.0, cache_size=200, class_weight=None, coef0=0.0,\n",
       "  decision_function_shape=None, degree=3, gamma='auto', kernel='linear',\n",
       "  max_iter=-1, probability=False, random_state=241, shrinking=True,\n",
       "  tol=0.001, verbose=False),\n",
       "       fit_params={}, iid=True, n_jobs=1,\n",
       "       param_grid={'C': array([  1.00000e-05,   1.00000e-04,   1.00000e-03,   1.00000e-02,\n",
       "         1.00000e-01,   1.00000e+00,   1.00000e+01,   1.00000e+02,\n",
       "         1.00000e+03,   1.00000e+04,   1.00000e+05])},\n",
       "       pre_dispatch='2*n_jobs', refit=True, scoring='accuracy', verbose=0)"
      ]
     },
     "execution_count": 11,
     "metadata": {},
     "output_type": "execute_result"
    }
   ],
   "source": [
    "grid = {'C': np.power(10.0, np.arange(-5, 6))}\n",
    "cv = KFold(y.size, n_folds=5, shuffle=True, random_state=241)\n",
    "clf = svm.SVC(kernel='linear', random_state=241)\n",
    "gs = grid_search.GridSearchCV(clf, grid, scoring='accuracy', cv=cv)\n",
    "gs.fit(X_scaled, y)"
   ]
  },
  {
   "cell_type": "code",
   "execution_count": 17,
   "metadata": {
    "collapsed": false
   },
   "outputs": [
    {
     "name": "stdout",
     "output_type": "stream",
     "text": [
      "q = 0.552632   c=0.000010\n",
      "q = 0.552632   c=0.000100\n",
      "q = 0.552632   c=0.001000\n",
      "q = 0.552632   c=0.010000\n",
      "q = 0.950168   c=0.100000\n",
      "q = 0.993281   c=1.000000\n",
      "q = 0.993281   c=10.000000\n",
      "q = 0.993281   c=100.000000\n",
      "q = 0.993281   c=1000.000000\n",
      "q = 0.993281   c=10000.000000\n",
      "q = 0.993281   c=100000.000000\n"
     ]
    }
   ],
   "source": [
    "for a in gs.grid_scores_:\n",
    "    quality = a.mean_validation_score # оценка качества по кросс-валидации\n",
    "    c = a.parameters['C']                # значения параметров\n",
    "    print('q = %f   c=%f' %(quality, c))"
   ]
  },
  {
   "cell_type": "code",
   "execution_count": 18,
   "metadata": {
    "collapsed": false
   },
   "outputs": [
    {
     "data": {
      "text/plain": [
       "SVC(C=1, cache_size=200, class_weight=None, coef0=0.0,\n",
       "  decision_function_shape=None, degree=3, gamma='auto', kernel='linear',\n",
       "  max_iter=-1, probability=False, random_state=241, shrinking=True,\n",
       "  tol=0.001, verbose=False)"
      ]
     },
     "execution_count": 18,
     "metadata": {},
     "output_type": "execute_result"
    }
   ],
   "source": [
    "bestC = 1\n",
    "clf = SVC(random_state=241, C=bestC, kernel='linear')\n",
    "clf.fit(X_scaled, y)"
   ]
  },
  {
   "cell_type": "code",
   "execution_count": 86,
   "metadata": {
    "collapsed": false
   },
   "outputs": [],
   "source": [
    "ws = clf.coef_.toarray()[0]\n",
    "ws = np.abs(ws)\n",
    "feature_mapping = vectorizer.get_feature_names()\n",
    "d = zip(ws, feature_mapping)\n",
    "d.sort()\n",
    "d.reverse()"
   ]
  },
  {
   "cell_type": "code",
   "execution_count": 87,
   "metadata": {
    "collapsed": false
   },
   "outputs": [],
   "source": [
    "i = 0\n",
    "words = []\n",
    "while i < 10:\n",
    "    w = d[i][1]\n",
    "    words.append(w)\n",
    "    i += 1\n",
    "    \n",
    "words.sort()"
   ]
  },
  {
   "cell_type": "code",
   "execution_count": 88,
   "metadata": {
    "collapsed": false
   },
   "outputs": [
    {
     "data": {
      "text/plain": [
       "u'atheism,atheists,bible,god,keith,moon,religion,sci,sky,space,'"
      ]
     },
     "execution_count": 88,
     "metadata": {},
     "output_type": "execute_result"
    }
   ],
   "source": [
    "answer = ''\n",
    "for w in words:\n",
    "    answer += w + ','\n",
    "\n",
    "answer"
   ]
  },
  {
   "cell_type": "code",
   "execution_count": null,
   "metadata": {
    "collapsed": true
   },
   "outputs": [],
   "source": []
  },
  {
   "cell_type": "code",
   "execution_count": null,
   "metadata": {
    "collapsed": true
   },
   "outputs": [],
   "source": []
  },
  {
   "cell_type": "code",
   "execution_count": null,
   "metadata": {
    "collapsed": true
   },
   "outputs": [],
   "source": []
  },
  {
   "cell_type": "code",
   "execution_count": null,
   "metadata": {
    "collapsed": true
   },
   "outputs": [],
   "source": []
  },
  {
   "cell_type": "code",
   "execution_count": 73,
   "metadata": {
    "collapsed": false
   },
   "outputs": [],
   "source": [
    "X_train = newsgroups.data\n",
    "y_train = newsgroups.target"
   ]
  },
  {
   "cell_type": "code",
   "execution_count": 74,
   "metadata": {
    "collapsed": false
   },
   "outputs": [],
   "source": [
    "scaler = TfidfVectorizer()\n",
    "X_train_scaled = scaler.fit_transform(X_train)\n",
    "# При таком подходе получается, что признаки на обучающем множестве \n",
    "# используют информацию из тестовой выборки — но такая ситуация вполне законна, \n",
    "# поскольку мы не используем значения целевой переменной из теста. \n",
    "X_test_scaled  = scaler.transform(X_train)"
   ]
  },
  {
   "cell_type": "code",
   "execution_count": 80,
   "metadata": {
    "collapsed": false
   },
   "outputs": [],
   "source": [
    "X_train_widht  = len(X_train_scaled.toarray()[0])\n",
    "X_train_height = len(X_train_scaled.toarray())"
   ]
  },
  {
   "cell_type": "code",
   "execution_count": 64,
   "metadata": {
    "collapsed": false
   },
   "outputs": [
    {
     "data": {
      "text/plain": [
       "0          0.00001\n",
       "1          0.00010\n",
       "2          0.00100\n",
       "3          0.01000\n",
       "4          0.10000\n",
       "5          1.00000\n",
       "6         10.00000\n",
       "7        100.00000\n",
       "8       1000.00000\n",
       "9      10000.00000\n",
       "10    100000.00000\n",
       "dtype: float64"
      ]
     },
     "execution_count": 64,
     "metadata": {},
     "output_type": "execute_result"
    }
   ],
   "source": [
    "cs = Series(np.arange(-5, 6))\n",
    "cs = cs.apply(lambda x: 10**x)\n",
    "cs"
   ]
  },
  {
   "cell_type": "code",
   "execution_count": 86,
   "metadata": {
    "collapsed": false
   },
   "outputs": [],
   "source": [
    "def getMetricByC(inC):\n",
    "    svc = SVC(random_state=241, C=inC, kernel='linear')\n",
    "    svc.fit(X_train_scaled, y_train)\n",
    "\n",
    "    # генератор разбиений, который задает набор \n",
    "    # разбиений на обучение и валидацию\n",
    "    kfold = KFold(X_train_height, n_folds=5,\n",
    "                  shuffle=True, random_state=241)\n",
    "\n",
    "    # В качестве метрики используем среднеквадратичную ошибку\n",
    "    cvsArray = cross_val_score(svc, X=X_train_scaled, y=y_train, cv=kfold)\n",
    "    cvs = cvsArray.mean()\n",
    "    return cvs"
   ]
  },
  {
   "cell_type": "code",
   "execution_count": 88,
   "metadata": {
    "collapsed": false
   },
   "outputs": [
    {
     "data": {
      "text/plain": [
       "{1.0000000000000001e-05: 0.5526360264776301,\n",
       " 0.0001: 0.5526360264776301,\n",
       " 0.001: 0.5526360264776301,\n",
       " 0.01: 0.5526360264776301,\n",
       " 0.10000000000000001: 0.95016352909879043,\n",
       " 1.0: 0.99328044066788723,\n",
       " 10.0: 0.99328044066788723,\n",
       " 100.0: 0.99328044066788723,\n",
       " 1000.0: 0.99328044066788723,\n",
       " 10000.0: 0.99328044066788723,\n",
       " 100000.0: 0.99328044066788723}"
      ]
     },
     "execution_count": 88,
     "metadata": {},
     "output_type": "execute_result"
    }
   ],
   "source": [
    "dictMetrics = {}\n",
    "\n",
    "for c in cs:\n",
    "    dictMetrics[c] = getMetricByC(c)\n",
    "\n",
    "dictMetrics   "
   ]
  },
  {
   "cell_type": "code",
   "execution_count": 89,
   "metadata": {
    "collapsed": false
   },
   "outputs": [
    {
     "data": {
      "text/plain": [
       "SVC(C=1, cache_size=200, class_weight=None, coef0=0.0,\n",
       "  decision_function_shape=None, degree=3, gamma='auto', kernel='linear',\n",
       "  max_iter=-1, probability=False, random_state=241, shrinking=True,\n",
       "  tol=0.001, verbose=False)"
      ]
     },
     "execution_count": 89,
     "metadata": {},
     "output_type": "execute_result"
    }
   ],
   "source": [
    "svc = SVC(random_state=241, C=1, kernel='linear')\n",
    "svc.fit(X_train_scaled, y_train)"
   ]
  },
  {
   "cell_type": "code",
   "execution_count": 91,
   "metadata": {
    "collapsed": false
   },
   "outputs": [
    {
     "data": {
      "text/plain": [
       "scipy.sparse.csr.csr_matrix"
      ]
     },
     "execution_count": 91,
     "metadata": {},
     "output_type": "execute_result"
    }
   ],
   "source": [
    "type(svc.coef_)"
   ]
  },
  {
   "cell_type": "code",
   "execution_count": null,
   "metadata": {
    "collapsed": true
   },
   "outputs": [],
   "source": []
  }
 ],
 "metadata": {
  "anaconda-cloud": {},
  "kernelspec": {
   "display_name": "Python [default]",
   "language": "python",
   "name": "python3"
  },
  "language_info": {
   "codemirror_mode": {
    "name": "ipython",
    "version": 3
   },
   "file_extension": ".py",
   "mimetype": "text/x-python",
   "name": "python",
   "nbconvert_exporter": "python",
   "pygments_lexer": "ipython3",
   "version": "3.5.2"
  }
 },
 "nbformat": 4,
 "nbformat_minor": 1
}
